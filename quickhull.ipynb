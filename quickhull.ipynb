{
 "cells": [
  {
   "attachments": {},
   "cell_type": "markdown",
   "metadata": {},
   "source": [
    "`Quickhull Algorithm`: An efficient algorithm for solving the convex hull problem using the divide and conquer approach.\n",
    "\n",
    "Goven a set of 2d points, `S`, the goal of the convex hull problem is to find the smallest convex polygon containing all the points and whose vertices consist of points from `S`. "
   ]
  },
  {
   "cell_type": "code",
   "execution_count": 2,
   "metadata": {},
   "outputs": [],
   "source": [
    "import math\n",
    "import sys\n",
    "\n",
    "\n",
    "import math\n",
    "import sys\n",
    "\n",
    "def hoare_partition(A, lo, hi, c):\n",
    "    i = lo+1\n",
    "    j = hi\n",
    "    p = A[lo][c]\n",
    "    while True:\n",
    "        #print(f\"i = {i}, c = {c}, A[{i}, 0] = {A[i][0]}, A[{i}, 1] = {A[i][1]}\")\n",
    "        #print(f\"lo = {lo}, hi = {hi}, p = {p}\")\n",
    "        while((A[i][c] <= p) and (i < hi)):\n",
    "            #print(f\"i = {i}\")\n",
    "            i += 1\n",
    "        while((A[j][c] >= p) and (j > lo)):\n",
    "            j-= 1 \n",
    "        \n",
    "        if (i >= j):\n",
    "            break\n",
    "        \n",
    "        #print(f\"i = {i}, j = {j}\")\n",
    "        #print(f\"Before swap = {A}\")\n",
    "        \n",
    "        temp = A[i]\n",
    "        A[i] = A[j]\n",
    "        A[j] = temp\n",
    "\n",
    "        #print(f\"After swap  = {A}\")\n",
    "\n",
    "    temp = A[j]\n",
    "    A[j] = A[lo]\n",
    "    A[lo] = temp\n",
    "    return j\n",
    "\n",
    "# modified quicksort for sorting list of tuples. c is the component of the tuple that will be used for the sorting order\n",
    "def quick_sort(A, lo, hi, c):\n",
    "    if(lo < hi):\n",
    "\n",
    "        # apply Hoare partitioning\n",
    "        s = hoare_partition(A, lo, hi, c)\n",
    "        \n",
    "        # recursively sort the left and right sub arrays\n",
    "        quick_sort(A, lo, s-1, c)\n",
    "        quick_sort(A, s+1, hi, c)\n",
    "\n",
    "\n",
    "def quickhull(S):\n",
    "\n",
    "    # pre-processing step: sort all the points in non-decreasing order in the x-coordinate\n",
    "    quick_sort(S, 0, len(S)-1, 0)\n",
    "\n",
    "    # check for ties in x-coordinate values, resolve by sorting tied values in non-decreasing order in their y-coordinate\n",
    "    i = 1\n",
    "    while(i < (len(S)-1)):\n",
    "        if(S[i-1][0] == S[i][0]):\n",
    "            lo = i-1\n",
    "            j = i+1    \n",
    "            while((S[j-1][0] == S[j][0]) and (j < (len(S)-1))):\n",
    "                j += 1\n",
    "            i = j + 1\n",
    "            hi = j - 1\n",
    "\n",
    "            # sort poiunts with tied x-values in non-decreasing order of their y-coordinates\n",
    "            quick_sort(S, lo, hi, 1)    \n",
    "            \n",
    "        else:\n",
    "            i += 1        \n",
    "\n",
    "\n",
    "# recursive convex hull solver via divide and conquer\n",
    "#def quickhull_rec(S):\n",
    "\n"
   ]
  },
  {
   "cell_type": "code",
   "execution_count": 5,
   "metadata": {},
   "outputs": [
    {
     "name": "stdout",
     "output_type": "stream",
     "text": [
      "[(38, 10), (13, 8), (73, 64), (10, 62), (76, 23), (6, 58), (80, 2), (65, 1), (17, 61), (2, 82), (77, 9), (72, 89), (7, 14), (26, 48), (51, 73), (21, 31), (19, 72), (85, 4), (12, 71), (29, 22), (30, 50), (15, 58), (51, 4), (69, 69), (88, 25), (88, 44), (95, 77), (97, 27), (87, 53), (14, 81)]\n",
      "[(2, 82), (6, 58), (7, 14), (10, 62), (12, 71), (13, 8), (14, 81), (15, 58), (17, 61), (19, 72), (21, 31), (26, 48), (29, 22), (30, 50), (38, 10), (51, 4), (51, 73), (65, 1), (69, 69), (72, 89), (73, 64), (76, 23), (77, 9), (80, 2), (85, 4), (87, 53), (88, 25), (88, 44), (95, 77), (97, 27)]\n"
     ]
    }
   ],
   "source": [
    "import numpy as np\n",
    "\n",
    "np.random.seed(1)\n",
    "Ax = np.random.randint(1,100, size=(30))\n",
    "Ay = np.random.randint(1,100, size=(30))\n",
    "A = list(zip(Ax,Ay))\n",
    "\n",
    "#A = [(2,4), (1,7), (6,4), (2,8), (3,3), (7,2), (2,2), (9,12), (5,4),(2,16), (9,6), (8,15)]\n",
    "\n",
    "print(A)\n",
    "quickhull(A)\n",
    "print(A)"
   ]
  },
  {
   "cell_type": "code",
   "execution_count": null,
   "metadata": {},
   "outputs": [],
   "source": []
  }
 ],
 "metadata": {
  "kernelspec": {
   "display_name": "base",
   "language": "python",
   "name": "python3"
  },
  "language_info": {
   "codemirror_mode": {
    "name": "ipython",
    "version": 3
   },
   "file_extension": ".py",
   "mimetype": "text/x-python",
   "name": "python",
   "nbconvert_exporter": "python",
   "pygments_lexer": "ipython3",
   "version": "3.9.13"
  },
  "orig_nbformat": 4
 },
 "nbformat": 4,
 "nbformat_minor": 2
}
